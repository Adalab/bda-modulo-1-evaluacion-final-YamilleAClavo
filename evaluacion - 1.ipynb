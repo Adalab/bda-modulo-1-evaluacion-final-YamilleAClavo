{
 "cells": [
  {
   "cell_type": "code",
   "execution_count": 7,
   "metadata": {},
   "outputs": [],
   "source": [
    "class TiendaOnline:\n",
    "    def __init__(self, ventas_totales = float(0)): #Se definen los atributos de la clase y se especifica el valor de ventas totales que es tipo float\n",
    "        self.inventario = [] #Lista vacia que almacena los productos\n",
    "        self.clientes = {} #Diccionario vacio que almacena los clientes\n",
    "        self.ventas_totales = ventas_totales\n",
    "\n",
    "    #definimos los métodos asociados a la clase TiendaOnline    \n",
    "\n",
    "    def agregar_producto(self,nombre, precio, cantidad):\n",
    "        #Comprobar si el producto existe o no\n",
    "        if nombre not in self.inventario:\n",
    "            self.inventario[nombre] = [nombre,precio, cantidad] #si el producto no existe añadirlo \n",
    "            print(f\"El producto {nombre} ha sido agregado\")\n",
    "            return self.inventario\n",
    "        else:\n",
    "            nombre['cantidad'] += cantidad #si existe, actualiza la cantidad\n",
    "            print(f\"el producto{nombre} ya existe, actualización de cantidad realizada con exito\")\n",
    "\n",
    "    def ver_inventario(self):\n",
    "        for producto in self.inventario: #iteramos la lista de cada producto\n",
    "            for key,value in producto.items(): #aqui iteramos cada diccionario dentro de la lista\n",
    "                print(key(), \":\", value) #imprimimos las keys y su value\n",
    "\n",
    "\n",
    "        \n",
    "\n",
    "        "
   ]
  }
 ],
 "metadata": {
  "kernelspec": {
   "display_name": "base",
   "language": "python",
   "name": "python3"
  },
  "language_info": {
   "codemirror_mode": {
    "name": "ipython",
    "version": 3
   },
   "file_extension": ".py",
   "mimetype": "text/x-python",
   "name": "python",
   "nbconvert_exporter": "python",
   "pygments_lexer": "ipython3",
   "version": "3.9.7"
  }
 },
 "nbformat": 4,
 "nbformat_minor": 2
}
