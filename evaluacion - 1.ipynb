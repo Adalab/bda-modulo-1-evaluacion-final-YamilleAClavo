{
 "cells": [
  {
   "cell_type": "code",
   "execution_count": 46,
   "metadata": {},
   "outputs": [],
   "source": [
    "class TiendaOnline:\n",
    "    def __init__(self, ventas_totales = float(0)): #Se definen los atributos de la clase y se especifica el valor de ventas totales que es tipo float ya que sabemos que en principio es 0\n",
    "        self.inventario = [] #Lista vacia que almacena los productos\n",
    "        self.clientes = {} #Diccionario vacio que almacena los clientes\n",
    "        self.ventas_totales = ventas_totales\n",
    "\n",
    "    #definimos los métodos asociados a la clase TiendaOnline    \n",
    "\n",
    "    def agregar_producto(self,nombre, precio, cantidad):\n",
    "        diccionario_producto = {\"nombre\" : nombre, \"precio\": precio, \"cantidad\" : cantidad} # creamos un diccionario con los daatos nombre, precio y cantidad\n",
    "        \n",
    "        if len(self.inventario) == 0: # si la lista está vacia añadimos el producto\n",
    "            self.inventario.append(diccionario_producto)\n",
    "        else:\n",
    "        \n",
    "            for diccionario_elemento in self.inventario: # iteramos sobre cada diccionario de la lista, para saber si existe en todos los valores de los diccionarios\n",
    "                valores = diccionario_elemento.values() # asignamos una variable(lista) para los valores del diccionario\n",
    "                print(diccionario_elemento)\n",
    "\n",
    "\n",
    "                if nombre not in valores: #comprobamos si existe o no e producto en la lista valores\n",
    "                    print(\"Producto no está en el inventario\")\n",
    "                    self.inventario.append(diccionario_producto) #si el producto no existe añadirlo \n",
    "                    print(f\"El producto {nombre} ha sido agregado\") #printeamos el producto añadido\n",
    "                    return self.inventario\n",
    "                else:\n",
    "                    diccionario_elemento['cantidad'] += cantidad #si existe, actualiza la cantidad\n",
    "                    print(f\"el producto{nombre} ya existe, actualización de cantidad realizada con exito: {diccionario_elemento ['cantidad']} unidades\") #printeamos que ya existe este producto\n",
    "                    return self.inventario\n",
    "    def ver_inventario(self):\n",
    "        for producto in self.inventario: #iteramos la lista de cada producto\n",
    "            for key,value in producto.items(): #aqui iteramos cada diccionario dentro de la lista\n",
    "                print(key(), \":\", value) #imprimimos las keys y su value\n",
    "\n",
    "    def buscar_producto(self, nombre):\n",
    "        for producto in self.inventario:\n",
    "            #detalles del producto de manera desglosada\n",
    "            nombre = producto['nombre']\n",
    "            precio = producto['precio']\n",
    "            cantidad = producto['cantidad']\n",
    "            #print (f\"nombre {}, precio: {}, cantidad: {}\") #error en el print que no entiendo\n",
    "            print(\"Nombre: \" + nombre + \", Precio: \" + str(precio) + \", Cantidad: \" + str(cantidad)) #hago este print más desglosado ya que me da error el anterior y no se solucionarlo\n",
    "        return\n",
    "\n",
    "    def actualizar_stock(self, nombre, cantidad):\n",
    "        for existe_stock in self.inventario: #Se busca el producto(nombre) en el inventario actual\n",
    "            if existe_stock == nombre:\n",
    "                self.inventario[nombre][\"cantidad\"] += cantidad #si el producto existe en el inventario actualizamos el stock\n",
    "                print(f\" Actualmente el producto {nombre} tiene {cantidad} unidades\")\n",
    "            else:\n",
    "                print(f\"El producto{nombre} no se encuentra en nuestro stock\") #si el producto no existe en el inventario printeamos un mensaje de que no existe\n",
    "        return\n",
    "    def eliminar_producto(self, nombre):\n",
    "        for existe_producto in self.inventario:\n",
    "            if nombre in self.inventario: #Comprobamos que el producto existe en el inventario\n",
    "                del self.inventario[nombre] #si el producto existe en el inventario lo eliminamos #se elimina solo ese producto? y las ventas asociadas?#remove\n",
    "                print(f\"El producto {nombre} ha sido eliminado\")\n",
    "            else:\n",
    "                print(f\"El producto {nombre} no existe en el inventario\") #si el producto no existe en el inventario printeamos que no existe actualmente\n",
    "        return\n",
    "            \n",
    "    def calcular_valor_inventario(self):\n",
    "        valor = 0 #variable en la que iremos sumando\n",
    "        for venta in self.inventario:\n",
    "            valor_venta = venta [\"cantidad\"] * venta [\"precio\"] #creamos la variable para saber el valor de la venta\n",
    "            valor += valor_venta #sumamos el valor de cada producto\n",
    "            print(f\"{valor} es el valor actual de nuestro inventario\") \n",
    "        return\n",
    "\n",
    "\n",
    "\n",
    "\n",
    "\n",
    "        \n",
    "\n",
    "        "
   ]
  },
  {
   "cell_type": "code",
   "execution_count": 51,
   "metadata": {},
   "outputs": [
    {
     "name": "stdout",
     "output_type": "stream",
     "text": [
      "{'nombre': 'pantalon', 'precio': 30, 'cantidad': 2}\n",
      "el productopantalon ya existe, actualización de cantidad realizada con exito: 7\n",
      "{'nombre': 'pantalon', 'precio': 30, 'cantidad': 7}\n",
      "Producto no está en el inventario\n",
      "El producto camisa ha sido agregado\n",
      "El producto camisa no existe en el inventario\n",
      "El producto camisa no existe en el inventario\n",
      "El producto pantalon no existe en el inventario\n",
      "El producto pantalon no existe en el inventario\n"
     ]
    }
   ],
   "source": [
    "tienda = TiendaOnline()\n",
    "tienda.agregar_producto(\"pantalon\" , 30, 2)\n",
    "tienda.agregar_producto(\"pantalon\", 30, 5)\n",
    "tienda.agregar_producto(\"camisa\" ,15, 5)\n",
    "tienda.eliminar_producto(\"camisa\")\n",
    "tienda.eliminar_producto(\"pantalon\")"
   ]
  },
  {
   "cell_type": "code",
   "execution_count": 48,
   "metadata": {},
   "outputs": [],
   "source": [
    "tienda = TiendaOnline()\n",
    "tienda.agregar_producto(\"pantalon\" , 30 ,2)"
   ]
  }
 ],
 "metadata": {
  "kernelspec": {
   "display_name": "base",
   "language": "python",
   "name": "python3"
  },
  "language_info": {
   "codemirror_mode": {
    "name": "ipython",
    "version": 3
   },
   "file_extension": ".py",
   "mimetype": "text/x-python",
   "name": "python",
   "nbconvert_exporter": "python",
   "pygments_lexer": "ipython3",
   "version": "3.9.7"
  }
 },
 "nbformat": 4,
 "nbformat_minor": 2
}
